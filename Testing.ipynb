{
  "nbformat": 4,
  "nbformat_minor": 0,
  "metadata": {
    "colab": {
      "name": "Testing.ipynb",
      "provenance": [],
      "collapsed_sections": [],
      "authorship_tag": "ABX9TyOBRhbRJOSYJHaOBkTtY0vi",
      "include_colab_link": true
    },
    "kernelspec": {
      "name": "python3",
      "display_name": "Python 3"
    },
    "language_info": {
      "name": "python"
    }
  },
  "cells": [
    {
      "cell_type": "markdown",
      "metadata": {
        "id": "view-in-github",
        "colab_type": "text"
      },
      "source": [
        "<a href=\"https://colab.research.google.com/github/istvanaut/colab_snippets/blob/master/Testing.ipynb\" target=\"_parent\"><img src=\"https://colab.research.google.com/assets/colab-badge.svg\" alt=\"Open In Colab\"/></a>"
      ]
    },
    {
      "cell_type": "code",
      "metadata": {
        "id": "YYEmlBITBTKh"
      },
      "source": [
        "import sys\n",
        "from random import randint\n",
        "\n",
        "def to_bin(num):\n",
        "\tbinary = []\n",
        "\twhile num != 0:\n",
        "    \t\tbit = num % 2\n",
        "    \t\tbinary.insert(0, bit)\n",
        "    \t\tnum = num // 2\n",
        "\treturn binary\n",
        "\n",
        "def rev(text):\n",
        "    lst=[]\n",
        "    for i in range(0,len(text)):\n",
        "        lst.append(text[(len(text)-1)-i])\n",
        "    return lst"
      ],
      "execution_count": 193,
      "outputs": []
    },
    {
      "cell_type": "code",
      "metadata": {
        "id": "LnfjDZq8Pnje"
      },
      "source": [
        "p = randint(1000000, 2000000)*2+1"
      ],
      "execution_count": 194,
      "outputs": []
    },
    {
      "cell_type": "code",
      "metadata": {
        "colab": {
          "base_uri": "https://localhost:8080/"
        },
        "id": "L-ji-ENICAWJ",
        "outputId": "b628fbdb-711f-401e-c554-6b56b3e4fe50"
      },
      "source": [
        "val1=221\n",
        "\n",
        "bits1 = to_bin(val1)\n",
        "bits1"
      ],
      "execution_count": 195,
      "outputs": [
        {
          "output_type": "execute_result",
          "data": {
            "text/plain": [
              "[1, 1, 0, 1, 1, 1, 0, 1]"
            ]
          },
          "metadata": {
            "tags": []
          },
          "execution_count": 195
        }
      ]
    },
    {
      "cell_type": "code",
      "metadata": {
        "colab": {
          "base_uri": "https://localhost:8080/"
        },
        "id": "S4IzpOhVPtXl",
        "outputId": "3948d91d-9913-459d-97a8-3ae658438460"
      },
      "source": [
        "val2=220\n",
        "\n",
        "bits2 = to_bin(val2)\n",
        "bits2"
      ],
      "execution_count": 196,
      "outputs": [
        {
          "output_type": "execute_result",
          "data": {
            "text/plain": [
              "[1, 1, 0, 1, 1, 1, 0, 0]"
            ]
          },
          "metadata": {
            "tags": []
          },
          "execution_count": 196
        }
      ]
    },
    {
      "cell_type": "code",
      "metadata": {
        "colab": {
          "base_uri": "https://localhost:8080/"
        },
        "id": "uUt8pVLvCOuh",
        "outputId": "bb1c8be1-0dd0-4642-9083-e123c416696c"
      },
      "source": [
        "def get_public_key(length):\n",
        "  public_key = [0 for i in range(length)]\n",
        "\n",
        "  for i in range(0,len(public_key)):\n",
        "    r = randint(1, 10)\n",
        "    q = randint(50000, 60000)\n",
        "    public_key[i] = q * p + 2*r \n",
        "\n",
        "  print(\"Public key: \", public_key)\n",
        "\n",
        "  return public_key\n",
        "\n",
        "pk1 = get_public_key(len(bits1))\n",
        "pk2 = get_public_key(len(bits1))"
      ],
      "execution_count": 197,
      "outputs": [
        {
          "output_type": "stream",
          "text": [
            "Public key:  [142000691579, 145363247681, 144867046315, 140641416542, 133483447810, 134702836294, 152742923411, 144742995972]\n",
            "Public key:  [135336284862, 147490579093, 137793537399, 156992307497, 142235595422, 155485227810, 140504169352, 147989419842]\n"
          ],
          "name": "stdout"
        }
      ]
    },
    {
      "cell_type": "code",
      "metadata": {
        "colab": {
          "base_uri": "https://localhost:8080/"
        },
        "id": "9nDQQhbPDO6K",
        "outputId": "6028cbe2-2cd5-4e4f-c50f-27c0200ee1eb"
      },
      "source": [
        "def get_cipher(plaintext, public_key):\n",
        "  cipher = []\n",
        "  for i in range(0,len(plaintext)):\n",
        "    cipher.append(public_key[i]+plaintext[i])\n",
        "  print(\"Cipher: \", cipher)\n",
        "\n",
        "  return cipher\n",
        "\n",
        "c1 = get_cipher(bits1, pk1)\n",
        "c2 = get_cipher(bits2, pk2)"
      ],
      "execution_count": 198,
      "outputs": [
        {
          "output_type": "stream",
          "text": [
            "Cipher:  [142000691580, 145363247682, 144867046315, 140641416543, 133483447811, 134702836295, 152742923411, 144742995973]\n",
            "Cipher:  [135336284863, 147490579094, 137793537399, 156992307498, 142235595423, 155485227811, 140504169352, 147989419842]\n"
          ],
          "name": "stdout"
        }
      ]
    },
    {
      "cell_type": "code",
      "metadata": {
        "id": "ikBAiQ0xyEgY",
        "colab": {
          "base_uri": "https://localhost:8080/"
        },
        "outputId": "b6e272e3-52c1-426e-ba76-a0e36fc051b3"
      },
      "source": [
        "def decipher(cipher, private_key):\n",
        "  deciphered = []\n",
        "  for i in range(0,len(cipher)):\n",
        "    deciphered.append((cipher[i] % p) % 2)\n",
        "  \n",
        "  print(\"Deciphered: \", deciphered)\n",
        "  return deciphered\n",
        "\n",
        "d1 = decipher(c1, p)\n",
        "d2 = decipher(c2, p)"
      ],
      "execution_count": 199,
      "outputs": [
        {
          "output_type": "stream",
          "text": [
            "Deciphered:  [1, 1, 0, 1, 1, 1, 0, 1]\n",
            "Deciphered:  [1, 1, 0, 1, 1, 1, 0, 0]\n"
          ],
          "name": "stdout"
        }
      ]
    },
    {
      "cell_type": "code",
      "metadata": {
        "colab": {
          "base_uri": "https://localhost:8080/"
        },
        "id": "APsKuKxsTEi1",
        "outputId": "f6bb98ed-db3e-4cc5-8b0f-6e203341494a"
      },
      "source": [
        "c1_plus_c2 = []\n",
        "\n",
        "for i in range(len(c1)):\n",
        "  c1_plus_c2.append(c1[i] + c2[i])\n",
        "\n",
        "c1_plus_c2"
      ],
      "execution_count": 200,
      "outputs": [
        {
          "output_type": "execute_result",
          "data": {
            "text/plain": [
              "[277336976443,\n",
              " 292853826776,\n",
              " 282660583714,\n",
              " 297633724041,\n",
              " 275719043234,\n",
              " 290188064106,\n",
              " 293247092763,\n",
              " 292732415815]"
            ]
          },
          "metadata": {
            "tags": []
          },
          "execution_count": 200
        }
      ]
    },
    {
      "cell_type": "code",
      "metadata": {
        "colab": {
          "base_uri": "https://localhost:8080/"
        },
        "id": "OM81rjxcTukG",
        "outputId": "7b43a2dc-7fc9-42bd-fd42-f800ff22a64e"
      },
      "source": [
        "d_c1_plus_c2 = decipher(c1_plus_c2, p)"
      ],
      "execution_count": 201,
      "outputs": [
        {
          "output_type": "stream",
          "text": [
            "Deciphered:  [0, 0, 0, 0, 0, 0, 0, 1]\n"
          ],
          "name": "stdout"
        }
      ]
    }
  ]
}