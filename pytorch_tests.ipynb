{
  "nbformat": 4,
  "nbformat_minor": 0,
  "metadata": {
    "colab": {
      "name": "pytorch_tests.ipynb",
      "provenance": [],
      "collapsed_sections": [],
      "authorship_tag": "ABX9TyMXxgLC82rudP9oE+N/Zwiw",
      "include_colab_link": true
    },
    "kernelspec": {
      "name": "python3",
      "display_name": "Python 3"
    }
  },
  "cells": [
    {
      "cell_type": "markdown",
      "metadata": {
        "id": "view-in-github",
        "colab_type": "text"
      },
      "source": [
        "<a href=\"https://colab.research.google.com/github/istvanaut/colab_snippets/blob/master/pytorch_tests.ipynb\" target=\"_parent\"><img src=\"https://colab.research.google.com/assets/colab-badge.svg\" alt=\"Open In Colab\"/></a>"
      ]
    },
    {
      "cell_type": "code",
      "metadata": {
        "id": "wgrztcc7S0Zh",
        "colab_type": "code",
        "colab": {}
      },
      "source": [
        "import matplotlib.pyplot as plt\n",
        "import seaborn as sns\n",
        "import numpy as np\n",
        "from torchvision import datasets\n",
        "import torch\n",
        "import torch.nn as nn\n",
        "import torch.optim as optim"
      ],
      "execution_count": 115,
      "outputs": []
    },
    {
      "cell_type": "code",
      "metadata": {
        "id": "6Ov4pnghS-mV",
        "colab_type": "code",
        "colab": {}
      },
      "source": [
        "train_data = datasets.FashionMNIST('data', download=True, train=True)\n",
        "# we need FloatTensors as input\n",
        "train_X = train_data.data.float()\n",
        "train_y = train_data.targets\n",
        "test_data = datasets.FashionMNIST('data', download=True, train=False)\n",
        "test_X = test_data.data.float()\n",
        "test_y = test_data.targets"
      ],
      "execution_count": 116,
      "outputs": []
    },
    {
      "cell_type": "code",
      "metadata": {
        "id": "xxR1o3EJT0UO",
        "colab_type": "code",
        "colab": {
          "base_uri": "https://localhost:8080/",
          "height": 298
        },
        "outputId": "867183f2-e395-41ac-f17d-4b1a3363c862"
      },
      "source": [
        "labels = ['T-shirt/top', 'Trouser', 'Pullover', 'Dress', 'Coat',\n",
        "'Sandal', 'Shirt', 'Sneaker', 'Bag', 'Ankle boot']\n",
        "\n",
        "idx = np.random.randint(len(train_X))\n",
        "sample_X = train_X[idx]\n",
        "sample_y = train_y[idx]\n",
        "print(\"Label: {}\".format(labels[sample_y]))\n",
        "plt.imshow(sample_X, 'gray')"
      ],
      "execution_count": 117,
      "outputs": [
        {
          "output_type": "stream",
          "text": [
            "Label: Trouser\n"
          ],
          "name": "stdout"
        },
        {
          "output_type": "execute_result",
          "data": {
            "text/plain": [
              "<matplotlib.image.AxesImage at 0x7fd9369105f8>"
            ]
          },
          "metadata": {
            "tags": []
          },
          "execution_count": 117
        },
        {
          "output_type": "display_data",
          "data": {
            "image/png": "[encoded data removed]",
            "text/plain": [
              "<Figure size 432x288 with 1 Axes>"
            ]
          },
          "metadata": {
            "tags": [],
            "needs_background": "light"
          }
        }
      ]
    },
    {
      "cell_type": "code",
      "metadata": {
        "id": "4bOH1f-liLJ8",
        "colab_type": "code",
        "colab": {
          "base_uri": "https://localhost:8080/",
          "height": 34
        },
        "outputId": "52e0bd0f-51ed-4afa-d625-c826c019b367"
      },
      "source": [
        "train_X.size()"
      ],
      "execution_count": 118,
      "outputs": [
        {
          "output_type": "execute_result",
          "data": {
            "text/plain": [
              "torch.Size([60000, 28, 28])"
            ]
          },
          "metadata": {
            "tags": []
          },
          "execution_count": 118
        }
      ]
    },
    {
      "cell_type": "code",
      "metadata": {
        "id": "bHXhx0cCi-11",
        "colab_type": "code",
        "colab": {
          "base_uri": "https://localhost:8080/",
          "height": 50
        },
        "outputId": "3e1486ba-980d-4426-c61f-0d449f227d82"
      },
      "source": [
        "np.unique(train_y.numpy(), return_counts=True)"
      ],
      "execution_count": 119,
      "outputs": [
        {
          "output_type": "execute_result",
          "data": {
            "text/plain": [
              "(array([0, 1, 2, 3, 4, 5, 6, 7, 8, 9]),\n",
              " array([6000, 6000, 6000, 6000, 6000, 6000, 6000, 6000, 6000, 6000]))"
            ]
          },
          "metadata": {
            "tags": []
          },
          "execution_count": 119
        }
      ]
    },
    {
      "cell_type": "code",
      "metadata": {
        "id": "YDpUKK22jR-a",
        "colab_type": "code",
        "colab": {
          "base_uri": "https://localhost:8080/",
          "height": 134
        },
        "outputId": "28292aed-c0bd-4598-ea10-68828751db6f"
      },
      "source": [
        "print(\"Before flattening:\")\n",
        "print(\"Train size:\", train_X.size(), train_y.size())\n",
        "print(\"Test size:\", test_X.size(), test_y.size())\n",
        "\n",
        "train_X = train_X.view(-1, 28 * 28).squeeze(1)\n",
        "test_X = test_X.view(-1, 28 * 28).squeeze(1)\n",
        "\n",
        "print(\"\\nAfter flattening:\")\n",
        "print(\"Train size:\", train_X.size(), train_y.size())\n",
        "print(\"Test size:\", test_X.size(), test_y.size())"
      ],
      "execution_count": 120,
      "outputs": [
        {
          "output_type": "stream",
          "text": [
            "Before flattening:\n",
            "Train size: torch.Size([60000, 28, 28]) torch.Size([60000])\n",
            "Test size: torch.Size([10000, 28, 28]) torch.Size([10000])\n",
            "\n",
            "After flattening:\n",
            "Train size: torch.Size([60000, 784]) torch.Size([60000])\n",
            "Test size: torch.Size([10000, 784]) torch.Size([10000])\n"
          ],
          "name": "stdout"
        }
      ]
    },
    {
      "cell_type": "code",
      "metadata": {
        "id": "AU_o5g6TkwM0",
        "colab_type": "code",
        "colab": {
          "base_uri": "https://localhost:8080/",
          "height": 101
        },
        "outputId": "3b76ed54-6979-4170-d7df-e28dd29f8995"
      },
      "source": [
        "all_idx = np.arange(len(train_X))\n",
        "np.random.shuffle(all_idx)\n",
        "train_idx = all_idx[:50000]\n",
        "dev_idx = all_idx[50000:]\n",
        "print(\"The overlap between train and dev should be an empty set:\", set(train_idx) & set(dev_idx))\n",
        "print(\"\")\n",
        "\n",
        "dev_X = train_X[dev_idx]\n",
        "dev_y = train_y[dev_idx]\n",
        "train_X = train_X[train_idx]\n",
        "train_y = train_y[train_idx]\n",
        "print(\"Train size:\", train_X.size(), train_y.size())\n",
        "print(\"Dev size:\", dev_X.size(), dev_y.size())\n",
        "print(\"Test size:\", test_X.size(), test_y.size())"
      ],
      "execution_count": 121,
      "outputs": [
        {
          "output_type": "stream",
          "text": [
            "The overlap between train and dev should be an empty set: set()\n",
            "\n",
            "Train size: torch.Size([50000, 784]) torch.Size([50000])\n",
            "Dev size: torch.Size([10000, 784]) torch.Size([10000])\n",
            "Test size: torch.Size([10000, 784]) torch.Size([10000])\n"
          ],
          "name": "stdout"
        }
      ]
    },
    {
      "cell_type": "code",
      "metadata": {
        "id": "__lwPRZb01To",
        "colab_type": "code",
        "colab": {}
      },
      "source": [
        "class BatchedIterator:\n",
        "    def __init__(self, X, y, batch_size):\n",
        "        self.X = X\n",
        "        self.y = y\n",
        "        self.batch_size = batch_size\n",
        "    \n",
        "    def iterate_once(self):\n",
        "        for start in range(0, len(self.X), self.batch_size):\n",
        "            end = start + self.batch_size\n",
        "            yield self.X[start:end], self.y[start:end]"
      ],
      "execution_count": 122,
      "outputs": []
    },
    {
      "cell_type": "code",
      "metadata": {
        "id": "Yiv2VXfd02y-",
        "colab_type": "code",
        "colab": {
          "base_uri": "https://localhost:8080/",
          "height": 50
        },
        "outputId": "d92da32f-9def-4e74-fa7e-b5137c0d36c7"
      },
      "source": [
        "train_iter = BatchedIterator(train_X, train_y, 33333)\n",
        "\n",
        "for batch in train_iter.iterate_once():\n",
        "    print(batch[0].size(), batch[1].size())"
      ],
      "execution_count": 123,
      "outputs": [
        {
          "output_type": "stream",
          "text": [
            "torch.Size([33333, 784]) torch.Size([33333])\n",
            "torch.Size([16667, 784]) torch.Size([16667])\n"
          ],
          "name": "stdout"
        }
      ]
    },
    {
      "cell_type": "code",
      "metadata": {
        "id": "bopaa0VT1AWH",
        "colab_type": "code",
        "colab": {}
      },
      "source": [
        "class SimpleClassifier(nn.Module):\n",
        "    def __init__(self, input_dim, output_dim, hidden_dim):\n",
        "        super().__init__()\n",
        "        self.input_layer = nn.Linear(input_dim, hidden_dim)\n",
        "        self.relu = nn.ReLU()\n",
        "        self.output_layer = nn.Linear(hidden_dim, output_dim)\n",
        "        \n",
        "    def forward(self, X):\n",
        "        h = self.input_layer(X)\n",
        "        h = self.relu(h)\n",
        "        out = self.output_layer(h)\n",
        "        return out"
      ],
      "execution_count": 124,
      "outputs": []
    },
    {
      "cell_type": "code",
      "metadata": {
        "id": "FljnY_fd1Zkv",
        "colab_type": "code",
        "colab": {
          "base_uri": "https://localhost:8080/",
          "height": 101
        },
        "outputId": "20e871b4-0eae-4d06-bbfb-330136c053bb"
      },
      "source": [
        "model = SimpleClassifier(\n",
        "    input_dim=train_X.size(1),\n",
        "    output_dim=10,\n",
        "    hidden_dim=50\n",
        ")\n",
        "model"
      ],
      "execution_count": 125,
      "outputs": [
        {
          "output_type": "execute_result",
          "data": {
            "text/plain": [
              "SimpleClassifier(\n",
              "  (input_layer): Linear(in_features=784, out_features=50, bias=True)\n",
              "  (relu): ReLU()\n",
              "  (output_layer): Linear(in_features=50, out_features=10, bias=True)\n",
              ")"
            ]
          },
          "metadata": {
            "tags": []
          },
          "execution_count": 125
        }
      ]
    },
    {
      "cell_type": "code",
      "metadata": {
        "id": "TxuokeS51q72",
        "colab_type": "code",
        "colab": {
          "base_uri": "https://localhost:8080/",
          "height": 84
        },
        "outputId": "1e4e46b2-6922-4e7c-f645-f99abb0c2032"
      },
      "source": [
        "for n, p in model.named_parameters():\n",
        "    print(n, p.size())"
      ],
      "execution_count": 126,
      "outputs": [
        {
          "output_type": "stream",
          "text": [
            "input_layer.weight torch.Size([50, 784])\n",
            "input_layer.bias torch.Size([50])\n",
            "output_layer.weight torch.Size([10, 50])\n",
            "output_layer.bias torch.Size([10])\n"
          ],
          "name": "stdout"
        }
      ]
    },
    {
      "cell_type": "code",
      "metadata": {
        "id": "70rB1mja1wlA",
        "colab_type": "code",
        "colab": {}
      },
      "source": [
        "criterion = nn.CrossEntropyLoss()\n",
        "optimizer = optim.Adam(model.parameters())"
      ],
      "execution_count": 127,
      "outputs": []
    },
    {
      "cell_type": "code",
      "metadata": {
        "id": "EWie9YS31zkv",
        "colab_type": "code",
        "colab": {
          "base_uri": "https://localhost:8080/",
          "height": 34
        },
        "outputId": "e6297ef6-c81b-4205-80ca-d205dca69a3d"
      },
      "source": [
        "test_pred = model(test_X).max(axis=1)[1]\n",
        "print(torch.eq(test_pred, test_y).sum())"
      ],
      "execution_count": 128,
      "outputs": [
        {
          "output_type": "stream",
          "text": [
            "tensor(945)\n"
          ],
          "name": "stdout"
        }
      ]
    },
    {
      "cell_type": "code",
      "metadata": {
        "id": "2fjBxc7t6Lla",
        "colab_type": "code",
        "colab": {
          "base_uri": "https://localhost:8080/",
          "height": 521
        },
        "outputId": "0d6efe13-b5d5-424d-a1c9-7dd4fa6011a5"
      },
      "source": [
        "batch_size = 1000\n",
        "train_iter = BatchedIterator(train_X, train_y, batch_size)\n",
        "dev_iter = BatchedIterator(dev_X, dev_y, batch_size)\n",
        "test_iter = BatchedIterator(test_X, test_y, batch_size)\n",
        "\n",
        "all_train_loss = []\n",
        "all_dev_loss = []\n",
        "all_train_acc = []\n",
        "all_dev_acc = []\n",
        "\n",
        "n_epochs = 10\n",
        "for epoch in range(n_epochs):\n",
        "    # training loop\n",
        "    for bi, (batch_x, batch_y) in enumerate(train_iter.iterate_once()):\n",
        "        \n",
        "        y_out = model(batch_x)\n",
        "        loss = criterion(y_out, batch_y)\n",
        "        optimizer.zero_grad()\n",
        "        loss.backward()\n",
        "        optimizer.step()\n",
        "        \n",
        "    # one train epoch finished, evaluate on the train and the dev set (NOT the test)\n",
        "    train_out = model(train_X)\n",
        "    train_loss = criterion(train_out, train_y)\n",
        "    all_train_loss.append(train_loss.item())\n",
        "    train_pred = train_out.max(axis=1)[1]\n",
        "    train_acc = torch.eq(train_pred, train_y).sum().float() / len(train_X)\n",
        "    all_train_acc.append(train_acc)\n",
        "    \n",
        "    dev_out = model(dev_X)\n",
        "    dev_loss = criterion(dev_out, dev_y)\n",
        "    all_dev_loss.append(dev_loss.item())\n",
        "    dev_pred = dev_out.max(axis=1)[1]\n",
        "    dev_acc = torch.eq(dev_pred, dev_y).sum().float() / len(dev_X)\n",
        "    all_dev_acc.append(dev_acc)\n",
        "    \n",
        "    print(f\"Epoch: {epoch}\\n  train accuracy: {train_acc}  train loss: {train_loss}\")\n",
        "    print(f\"  dev accuracy: {dev_acc}  dev loss: {dev_loss}\")"
      ],
      "execution_count": 129,
      "outputs": [
        {
          "output_type": "stream",
          "text": [
            "Epoch: 0\n",
            "  train accuracy: 0.6520799994468689  train loss: 1.2815603017807007\n",
            "  dev accuracy: 0.6532999873161316  dev loss: 1.2919070720672607\n",
            "Epoch: 1\n",
            "  train accuracy: 0.7110999822616577  train loss: 0.9573097825050354\n",
            "  dev accuracy: 0.707099974155426  dev loss: 0.9731940627098083\n",
            "Epoch: 2\n",
            "  train accuracy: 0.7376199960708618  train loss: 0.8207024931907654\n",
            "  dev accuracy: 0.7355999946594238  dev loss: 0.8422945141792297\n",
            "Epoch: 3\n",
            "  train accuracy: 0.7643600106239319  train loss: 0.7324347496032715\n",
            "  dev accuracy: 0.7613999843597412  dev loss: 0.7580204010009766\n",
            "Epoch: 4\n",
            "  train accuracy: 0.7838000059127808  train loss: 0.6558606028556824\n",
            "  dev accuracy: 0.7793999910354614  dev loss: 0.6879537105560303\n",
            "Epoch: 5\n",
            "  train accuracy: 0.7967600226402283  train loss: 0.6044327616691589\n",
            "  dev accuracy: 0.7907999753952026  dev loss: 0.6440246105194092\n",
            "Epoch: 6\n",
            "  train accuracy: 0.8093400001525879  train loss: 0.5584858059883118\n",
            "  dev accuracy: 0.8019000291824341  dev loss: 0.6000319719314575\n",
            "Epoch: 7\n",
            "  train accuracy: 0.8159999847412109  train loss: 0.530460774898529\n",
            "  dev accuracy: 0.8073999881744385  dev loss: 0.5739781260490417\n",
            "Epoch: 8\n",
            "  train accuracy: 0.8226600289344788  train loss: 0.5095764994621277\n",
            "  dev accuracy: 0.8137000203132629  dev loss: 0.553485095500946\n",
            "Epoch: 9\n",
            "  train accuracy: 0.8306400179862976  train loss: 0.4832928776741028\n",
            "  dev accuracy: 0.8228999972343445  dev loss: 0.5316668748855591\n"
          ],
          "name": "stdout"
        }
      ]
    },
    {
      "cell_type": "code",
      "metadata": {
        "id": "1nleqNPm67vj",
        "colab_type": "code",
        "colab": {
          "base_uri": "https://localhost:8080/",
          "height": 34
        },
        "outputId": "620ec220-db6c-427f-ea1a-ba5d0098ea4c"
      },
      "source": [
        "test_pred = model(test_X).max(axis=1)[1]\n",
        "test_acc = torch.eq(test_pred, test_y).sum().float() / len(test_X)\n",
        "test_acc"
      ],
      "execution_count": 130,
      "outputs": [
        {
          "output_type": "execute_result",
          "data": {
            "text/plain": [
              "tensor(0.8108)"
            ]
          },
          "metadata": {
            "tags": []
          },
          "execution_count": 130
        }
      ]
    },
    {
      "cell_type": "code",
      "metadata": {
        "id": "7PDBStB86-In",
        "colab_type": "code",
        "colab": {
          "base_uri": "https://localhost:8080/",
          "height": 282
        },
        "outputId": "ce55ab09-3949-4f16-cdbc-62e38efd9287"
      },
      "source": [
        "plt.plot(all_train_loss, label='train')\n",
        "plt.plot(all_dev_loss, label='dev')\n",
        "plt.legend()"
      ],
      "execution_count": 131,
      "outputs": [
        {
          "output_type": "execute_result",
          "data": {
            "text/plain": [
              "<matplotlib.legend.Legend at 0x7fd93586d710>"
            ]
          },
          "metadata": {
            "tags": []
          },
          "execution_count": 131
        },
        {
          "output_type": "display_data",
          "data": {
            "image/png": "[encoded data removed]",
            "text/plain": [
              "<Figure size 432x288 with 1 Axes>"
            ]
          },
          "metadata": {
            "tags": [],
            "needs_background": "light"
          }
        }
      ]
    },
    {
      "cell_type": "code",
      "metadata": {
        "id": "iVp7b9dt7Eew",
        "colab_type": "code",
        "colab": {
          "base_uri": "https://localhost:8080/",
          "height": 282
        },
        "outputId": "ca3a7f96-5688-4eea-8149-41347d9eafe7"
      },
      "source": [
        "plt.plot(all_train_acc, label='train')\n",
        "plt.plot(all_dev_acc, label='dev')\n",
        "plt.legend()"
      ],
      "execution_count": 132,
      "outputs": [
        {
          "output_type": "execute_result",
          "data": {
            "text/plain": [
              "<matplotlib.legend.Legend at 0x7fd935858e48>"
            ]
          },
          "metadata": {
            "tags": []
          },
          "execution_count": 132
        },
        {
          "output_type": "display_data",
          "data": {
            "image/png": "[encoded data removed]",
            "text/plain": [
              "<Figure size 432x288 with 1 Axes>"
            ]
          },
          "metadata": {
            "tags": [],
            "needs_background": "light"
          }
        }
      ]
    },
    {
      "cell_type": "code",
      "metadata": {
        "id": "PgKCyGPj7IYq",
        "colab_type": "code",
        "colab": {}
      },
      "source": [
        "toy_X = train_X[:5]\n",
        "toy_y = train_y[:5]\n",
        "\n",
        "model = SimpleClassifier(\n",
        "    input_dim=train_X.size(1),\n",
        "    output_dim=10,\n",
        "    hidden_dim=500\n",
        ")\n",
        "optimizer = optim.Adam(model.parameters())"
      ],
      "execution_count": 133,
      "outputs": []
    },
    {
      "cell_type": "code",
      "metadata": {
        "id": "pY5Kvt3L7J2w",
        "colab_type": "code",
        "colab": {}
      },
      "source": [
        "batch_size = 20\n",
        "toy_train_iter = BatchedIterator(toy_X, toy_y, batch_size)\n",
        "\n",
        "all_train_loss = []\n",
        "all_dev_loss = []\n",
        "all_train_acc = []\n",
        "all_dev_acc = []\n",
        "\n",
        "n_epochs = 20\n",
        "for epoch in range(n_epochs):\n",
        "    # training loop\n",
        "    for bi, (batch_x, batch_y) in enumerate(toy_train_iter.iterate_once()):\n",
        "        \n",
        "        y_out = model(batch_x)\n",
        "        loss = criterion(y_out, batch_y)\n",
        "        optimizer.zero_grad()\n",
        "        loss.backward()\n",
        "        optimizer.step()\n",
        "        \n",
        "    # one train epoch finished, evaluate on the train and the dev set (NOT the test)\n",
        "    train_out = model(toy_X)\n",
        "    train_loss = criterion(train_out, toy_y)\n",
        "    all_train_loss.append(train_loss.item())\n",
        "    train_pred = train_out.max(axis=1)[1]\n",
        "    train_acc = torch.eq(train_pred, toy_y).sum().float() / len(toy_X)\n",
        "    all_train_acc.append(train_acc)\n",
        "    \n",
        "    dev_out = model(dev_X)\n",
        "    dev_loss = criterion(dev_out, dev_y)\n",
        "    all_dev_loss.append(dev_loss.item())\n",
        "    dev_pred = dev_out.max(axis=1)[1]\n",
        "    dev_acc = torch.eq(dev_pred, dev_y).sum().float() / len(dev_X)\n",
        "    all_dev_acc.append(dev_acc)"
      ],
      "execution_count": 134,
      "outputs": []
    },
    {
      "cell_type": "code",
      "metadata": {
        "id": "pO14f5Xs7OOg",
        "colab_type": "code",
        "colab": {
          "base_uri": "https://localhost:8080/",
          "height": 367
        },
        "outputId": "a2f9f456-a3b3-4c2b-bfaa-4d92989bca23"
      },
      "source": [
        "fig, ax = plt.subplots(1, 2, figsize=(12, 5))\n",
        "ax[0].set_title(\"Loss\")\n",
        "ax[1].set_title(\"Accuracy\")\n",
        "ax[0].set_xlabel(\"epoch\")\n",
        "ax[1].set_xlabel(\"epoch\")\n",
        "ax[0].plot(all_train_loss, label='train')\n",
        "ax[0].plot(all_dev_loss, label='dev')\n",
        "ax[1].plot(all_train_acc, label='train')\n",
        "ax[1].plot(all_dev_acc, label='dev')\n",
        "plt.legend()"
      ],
      "execution_count": 135,
      "outputs": [
        {
          "output_type": "execute_result",
          "data": {
            "text/plain": [
              "<matplotlib.legend.Legend at 0x7fd9357cfe80>"
            ]
          },
          "metadata": {
            "tags": []
          },
          "execution_count": 135
        },
        {
          "output_type": "display_data",
          "data": {
            "image/png": "[encoded data removed]",
            "text/plain": [
              "<Figure size 864x360 with 2 Axes>"
            ]
          },
          "metadata": {
            "tags": [],
            "needs_background": "light"
          }
        }
      ]
    },
    {
      "cell_type": "code",
      "metadata": {
        "id": "8QIlzoOC7frk",
        "colab_type": "code",
        "colab": {
          "base_uri": "https://localhost:8080/",
          "height": 34
        },
        "outputId": "aa8bf08a-92d9-4478-bff1-3bd9d1f7c741"
      },
      "source": [
        "use_cuda = torch.cuda.is_available()\n",
        "print(use_cuda)"
      ],
      "execution_count": 136,
      "outputs": [
        {
          "output_type": "stream",
          "text": [
            "False\n"
          ],
          "name": "stdout"
        }
      ]
    }
  ]
}