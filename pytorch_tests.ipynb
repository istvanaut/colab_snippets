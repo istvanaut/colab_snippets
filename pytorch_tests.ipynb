{
  "nbformat": 4,
  "nbformat_minor": 0,
  "metadata": {
    "colab": {
      "name": "pytorch_tests.ipynb",
      "provenance": [],
      "collapsed_sections": [],
      "authorship_tag": "ABX9TyNlUTu+sQOrptQjQHxKZpcn",
      "include_colab_link": true
    },
    "kernelspec": {
      "name": "python3",
      "display_name": "Python 3"
    }
  },
  "cells": [
    {
      "cell_type": "markdown",
      "metadata": {
        "id": "view-in-github",
        "colab_type": "text"
      },
      "source": [
        "<a href=\"https://colab.research.google.com/github/istvanaut/colab_snippets/blob/master/pytorch_tests.ipynb\" target=\"_parent\"><img src=\"https://colab.research.google.com/assets/colab-badge.svg\" alt=\"Open In Colab\"/></a>"
      ]
    },
    {
      "cell_type": "code",
      "metadata": {
        "id": "wgrztcc7S0Zh",
        "colab_type": "code",
        "colab": {}
      },
      "source": [
        "import matplotlib.pyplot as plt\n",
        "import seaborn as sns\n",
        "import numpy as np\n",
        "from torchvision import datasets\n",
        "import torch\n",
        "import torch.nn as nn\n",
        "import torch.optim as optim"
      ],
      "execution_count": null,
      "outputs": []
    },
    {
      "cell_type": "code",
      "metadata": {
        "id": "6Ov4pnghS-mV",
        "colab_type": "code",
        "colab": {}
      },
      "source": [
        "train_data = datasets.FashionMNIST('data', download=True, train=True)\n",
        "# we need FloatTensors as input\n",
        "train_X = train_data.data.float()\n",
        "train_y = train_data.targets\n",
        "test_data = datasets.FashionMNIST('data', download=True, train=False)\n",
        "test_X = test_data.data.float()\n",
        "test_y = test_data.targets"
      ],
      "execution_count": null,
      "outputs": []
    }
  ]
}