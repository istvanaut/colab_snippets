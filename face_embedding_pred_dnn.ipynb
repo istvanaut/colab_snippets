{
  "nbformat": 4,
  "nbformat_minor": 0,
  "metadata": {
    "colab": {
      "name": "face_embedding_pred_dnn",
      "provenance": [],
      "collapsed_sections": [],
      "mount_file_id": "1zjhhKMPupBDAzpA5NU3R893yDIe4zILs",
      "authorship_tag": "ABX9TyMbLSeKih0jyLmA8pQ+l6s3",
      "include_colab_link": true
    },
    "kernelspec": {
      "name": "python3",
      "display_name": "Python 3"
    },
    "accelerator": "GPU"
  },
  "cells": [
    {
      "cell_type": "markdown",
      "metadata": {
        "id": "view-in-github",
        "colab_type": "text"
      },
      "source": [
        "<a href=\"https://colab.research.google.com/github/istvanaut/colab_snippets/blob/master/face_embedding_pred_dnn.ipynb\" target=\"_parent\"><img src=\"https://colab.research.google.com/assets/colab-badge.svg\" alt=\"Open In Colab\"/></a>"
      ]
    },
    {
      "cell_type": "code",
      "metadata": {
        "id": "56HEswTRQgAM",
        "colab_type": "code",
        "colab": {
          "base_uri": "https://localhost:8080/",
          "height": 70
        },
        "outputId": "2935a4cf-1ae4-4b02-a94e-a535bda8d141"
      },
      "source": [
        "import matplotlib.pyplot as plt\n",
        "import seaborn as sns\n",
        "import numpy as np\n",
        "from torchvision import datasets\n",
        "import torch\n",
        "import torch.nn as nn\n",
        "import torch.optim as optim\n",
        "import pickle"
      ],
      "execution_count": 2,
      "outputs": [
        {
          "output_type": "stream",
          "text": [
            "/usr/local/lib/python3.6/dist-packages/statsmodels/tools/_testing.py:19: FutureWarning: pandas.util.testing is deprecated. Use the functions in the public API at pandas.testing instead.\n",
            "  import pandas.util.testing as tm\n"
          ],
          "name": "stderr"
        }
      ]
    },
    {
      "cell_type": "code",
      "metadata": {
        "id": "tGmwXihYRFtv",
        "colab_type": "code",
        "colab": {
          "base_uri": "https://localhost:8080/",
          "height": 34
        },
        "outputId": "547dc515-b225-49a3-b4c2-fb9c72b1c6d2"
      },
      "source": [
        "train_X = torch.from_numpy(pickle.load(open(\"/content/drive/My Drive/Colab Notebooks/Snippets/Sex_SVC_x_train.pickle\",\"br\")).to_numpy())\n",
        "train_y = pickle.load(open(\"/content/drive/My Drive/Colab Notebooks/Snippets/Sex_SVC_y_train.pickle\",\"br\")).to_numpy()\n",
        "\n",
        "test_X = pickle.load(open(\"/content/drive/My Drive/Colab Notebooks/Snippets/Sex_SVC_x_test.pickle\",\"br\")).to_numpy()\n",
        "test_y = pickle.load(open(\"/content/drive/My Drive/Colab Notebooks/Snippets/Sex_SVC_y_test.pickle\",\"br\")).to_numpy()\n",
        "\n",
        "print(train_X.size())"
      ],
      "execution_count": 24,
      "outputs": [
        {
          "output_type": "stream",
          "text": [
            "torch.Size([9371, 128])\n"
          ],
          "name": "stdout"
        }
      ]
    },
    {
      "cell_type": "code",
      "metadata": {
        "id": "RVvgORGuRm-J",
        "colab_type": "code",
        "colab": {
          "base_uri": "https://localhost:8080/",
          "height": 34
        },
        "outputId": "5584e991-2092-4bce-cac8-5f31297f9cc1"
      },
      "source": [
        "np.unique(train_y, return_counts=True)"
      ],
      "execution_count": 19,
      "outputs": [
        {
          "output_type": "execute_result",
          "data": {
            "text/plain": [
              "(array([0., 1.]), array([4644, 4727]))"
            ]
          },
          "metadata": {
            "tags": []
          },
          "execution_count": 19
        }
      ]
    },
    {
      "cell_type": "code",
      "metadata": {
        "id": "zFq44EA1VsAR",
        "colab_type": "code",
        "colab": {
          "base_uri": "https://localhost:8080/",
          "height": 118
        },
        "outputId": "4e0620a2-1e99-444a-bbc5-348150140430"
      },
      "source": [
        "all_idx = np.arange(len(train_X))\n",
        "print(len(all_idx))\n",
        "\n",
        "np.random.shuffle(all_idx)\n",
        "train_idx = all_idx[:8000]\n",
        "dev_idx = all_idx[8000:]\n",
        "\n",
        "\n",
        "\n",
        "print(\"The overlap between train and dev should be an empty set:\", set(train_idx) & set(dev_idx))\n",
        "print(\"\")\n",
        "\n",
        "dev_X = train_X[dev_idx]\n",
        "dev_y = train_y[dev_idx]\n",
        "train_X = train_X[train_idx]\n",
        "train_y = train_y[train_idx]\n",
        "print(\"Train size:\", len(train_X), len(train_y))\n",
        "print(\"Dev size:\", len(dev_X), len(dev_y))\n",
        "print(\"Test size:\", len(test_X), len(test_y))"
      ],
      "execution_count": 20,
      "outputs": [
        {
          "output_type": "stream",
          "text": [
            "9371\n",
            "The overlap between train and dev should be an empty set: set()\n",
            "\n",
            "Train size: 8000 8000\n",
            "Dev size: 1371 1371\n",
            "Test size: 2343 2343\n"
          ],
          "name": "stdout"
        }
      ]
    }
  ]
}